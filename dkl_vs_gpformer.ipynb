{
  "cells": [
    {
      "cell_type": "markdown",
      "metadata": {
        "id": "8L0Hz0MTUng8"
      },
      "source": [
        "## DKL vs GPFormer Comparison\n",
        "This notebook converts the provided script into an executable form in Codex."
      ],
      "id": "8L0Hz0MTUng8"
    },
    {
      "cell_type": "markdown",
      "source": [
        "\n",
        "Python >= 3.9, PyTorch >= 1.12, GPyTorch >= 1.9 설치\n",
        "matplotlib, scipy, scikit-learn 필요\n",
        "실행 후 각 모델 결과:\n",
        "콘솔 출력: MAE, σ vs MAE 상관도\n",
        "저장 이미지: DKL_mae_sigma.png, GPFormer_mae_sigma.png\n"
      ],
      "metadata": {
        "id": "GxRHgLPyUpH3"
      },
      "id": "GxRHgLPyUpH3"
    },
    {
      "cell_type": "code",
      "source": [
        "# prompt: python 버전 확인\n",
        "\n",
        "!python --version\n",
        "!!pip3 install torch torchvision\n",
        "!pip install gpytorch"
      ],
      "metadata": {
        "id": "bApnfSxPW6nk",
        "outputId": "308e460a-94bd-489f-feb7-164978d3e33d",
        "colab": {
          "base_uri": "https://localhost:8080/"
        }
      },
      "id": "bApnfSxPW6nk",
      "execution_count": 12,
      "outputs": [
        {
          "output_type": "stream",
          "name": "stdout",
          "text": [
            "Python 3.11.13\n",
            "Requirement already satisfied: gpytorch in /usr/local/lib/python3.11/dist-packages (1.14)\n",
            "Requirement already satisfied: jaxtyping in /usr/local/lib/python3.11/dist-packages (from gpytorch) (0.3.2)\n",
            "Requirement already satisfied: mpmath<=1.3,>=0.19 in /usr/local/lib/python3.11/dist-packages (from gpytorch) (1.3.0)\n",
            "Requirement already satisfied: scikit-learn in /usr/local/lib/python3.11/dist-packages (from gpytorch) (1.6.1)\n",
            "Requirement already satisfied: scipy>=1.6.0 in /usr/local/lib/python3.11/dist-packages (from gpytorch) (1.15.3)\n",
            "Requirement already satisfied: linear-operator>=0.6 in /usr/local/lib/python3.11/dist-packages (from gpytorch) (0.6)\n",
            "Requirement already satisfied: torch>=2.0 in /usr/local/lib/python3.11/dist-packages (from linear-operator>=0.6->gpytorch) (2.6.0+cu124)\n",
            "Requirement already satisfied: numpy<2.5,>=1.23.5 in /usr/local/lib/python3.11/dist-packages (from scipy>=1.6.0->gpytorch) (2.0.2)\n",
            "Requirement already satisfied: wadler-lindig>=0.1.3 in /usr/local/lib/python3.11/dist-packages (from jaxtyping->gpytorch) (0.1.6)\n",
            "Requirement already satisfied: joblib>=1.2.0 in /usr/local/lib/python3.11/dist-packages (from scikit-learn->gpytorch) (1.5.1)\n",
            "Requirement already satisfied: threadpoolctl>=3.1.0 in /usr/local/lib/python3.11/dist-packages (from scikit-learn->gpytorch) (3.6.0)\n",
            "Requirement already satisfied: filelock in /usr/local/lib/python3.11/dist-packages (from torch>=2.0->linear-operator>=0.6->gpytorch) (3.18.0)\n",
            "Requirement already satisfied: typing-extensions>=4.10.0 in /usr/local/lib/python3.11/dist-packages (from torch>=2.0->linear-operator>=0.6->gpytorch) (4.14.0)\n",
            "Requirement already satisfied: networkx in /usr/local/lib/python3.11/dist-packages (from torch>=2.0->linear-operator>=0.6->gpytorch) (3.5)\n",
            "Requirement already satisfied: jinja2 in /usr/local/lib/python3.11/dist-packages (from torch>=2.0->linear-operator>=0.6->gpytorch) (3.1.6)\n",
            "Requirement already satisfied: fsspec in /usr/local/lib/python3.11/dist-packages (from torch>=2.0->linear-operator>=0.6->gpytorch) (2025.3.2)\n",
            "Requirement already satisfied: nvidia-cuda-nvrtc-cu12==12.4.127 in /usr/local/lib/python3.11/dist-packages (from torch>=2.0->linear-operator>=0.6->gpytorch) (12.4.127)\n",
            "Requirement already satisfied: nvidia-cuda-runtime-cu12==12.4.127 in /usr/local/lib/python3.11/dist-packages (from torch>=2.0->linear-operator>=0.6->gpytorch) (12.4.127)\n",
            "Requirement already satisfied: nvidia-cuda-cupti-cu12==12.4.127 in /usr/local/lib/python3.11/dist-packages (from torch>=2.0->linear-operator>=0.6->gpytorch) (12.4.127)\n",
            "Requirement already satisfied: nvidia-cudnn-cu12==9.1.0.70 in /usr/local/lib/python3.11/dist-packages (from torch>=2.0->linear-operator>=0.6->gpytorch) (9.1.0.70)\n",
            "Requirement already satisfied: nvidia-cublas-cu12==12.4.5.8 in /usr/local/lib/python3.11/dist-packages (from torch>=2.0->linear-operator>=0.6->gpytorch) (12.4.5.8)\n",
            "Requirement already satisfied: nvidia-cufft-cu12==11.2.1.3 in /usr/local/lib/python3.11/dist-packages (from torch>=2.0->linear-operator>=0.6->gpytorch) (11.2.1.3)\n",
            "Requirement already satisfied: nvidia-curand-cu12==10.3.5.147 in /usr/local/lib/python3.11/dist-packages (from torch>=2.0->linear-operator>=0.6->gpytorch) (10.3.5.147)\n",
            "Requirement already satisfied: nvidia-cusolver-cu12==11.6.1.9 in /usr/local/lib/python3.11/dist-packages (from torch>=2.0->linear-operator>=0.6->gpytorch) (11.6.1.9)\n",
            "Requirement already satisfied: nvidia-cusparse-cu12==12.3.1.170 in /usr/local/lib/python3.11/dist-packages (from torch>=2.0->linear-operator>=0.6->gpytorch) (12.3.1.170)\n",
            "Requirement already satisfied: nvidia-cusparselt-cu12==0.6.2 in /usr/local/lib/python3.11/dist-packages (from torch>=2.0->linear-operator>=0.6->gpytorch) (0.6.2)\n",
            "Requirement already satisfied: nvidia-nccl-cu12==2.21.5 in /usr/local/lib/python3.11/dist-packages (from torch>=2.0->linear-operator>=0.6->gpytorch) (2.21.5)\n",
            "Requirement already satisfied: nvidia-nvtx-cu12==12.4.127 in /usr/local/lib/python3.11/dist-packages (from torch>=2.0->linear-operator>=0.6->gpytorch) (12.4.127)\n",
            "Requirement already satisfied: nvidia-nvjitlink-cu12==12.4.127 in /usr/local/lib/python3.11/dist-packages (from torch>=2.0->linear-operator>=0.6->gpytorch) (12.4.127)\n",
            "Requirement already satisfied: triton==3.2.0 in /usr/local/lib/python3.11/dist-packages (from torch>=2.0->linear-operator>=0.6->gpytorch) (3.2.0)\n",
            "Requirement already satisfied: sympy==1.13.1 in /usr/local/lib/python3.11/dist-packages (from torch>=2.0->linear-operator>=0.6->gpytorch) (1.13.1)\n",
            "Requirement already satisfied: MarkupSafe>=2.0 in /usr/local/lib/python3.11/dist-packages (from jinja2->torch>=2.0->linear-operator>=0.6->gpytorch) (3.0.2)\n"
          ]
        }
      ]
    },
    {
      "cell_type": "code",
      "execution_count": 13,
      "metadata": {
        "id": "2LdTCLtOUnhD"
      },
      "outputs": [],
      "source": [
        "import torch\n",
        "import torch.nn as nn\n",
        "import torch.nn.functional as F\n",
        "import gpytorch\n",
        "from gpytorch.models import ApproximateGP\n",
        "from gpytorch.variational import VariationalStrategy, CholeskyVariationalDistribution\n",
        "from gpytorch.kernels import ScaleKernel, RBFKernel\n",
        "from sklearn.metrics import mean_absolute_error\n",
        "from scipy.stats import spearmanr\n",
        "import matplotlib.pyplot as plt\n",
        "import numpy as np\n",
        "from urllib.request import urlretrieve\n",
        "import pandas as pd\n",
        "from pathlib import Path\n",
        "from sklearn.datasets import make_regression\n"
      ],
      "id": "2LdTCLtOUnhD"
    },
    {
      "cell_type": "code",
      "execution_count": 14,
      "metadata": {
        "id": "JWB1K1OEUnhD"
      },
      "outputs": [],
      "source": [
        "def load_kin8nm():\n",
        "    url = 'https://raw.githubusercontent.com/yaringal/DropoutUncertaintyExps/master/uci_datasets/kin8nm/kin8nm.csv'\n",
        "    cache = Path('kin8nm.csv')\n",
        "    try:\n",
        "        if not cache.exists():\n",
        "            urlretrieve(url, cache)\n",
        "        df = pd.read_csv(cache)\n",
        "        X = torch.tensor(df.iloc[:, :-1].values, dtype=torch.float32)\n",
        "        y = torch.tensor(df.iloc[:, -1].values, dtype=torch.float32)\n",
        "    except Exception as e:\n",
        "        # fallback synthetic data\n",
        "        X_np, y_np = make_regression(n_samples=2000, n_features=8, noise=0.1, random_state=0)\n",
        "        X = torch.tensor(X_np, dtype=torch.float32)\n",
        "        y = torch.tensor(y_np, dtype=torch.float32)\n",
        "    return X, y\n"
      ],
      "id": "JWB1K1OEUnhD"
    },
    {
      "cell_type": "code",
      "execution_count": 15,
      "metadata": {
        "id": "ImK6AuumUnhD"
      },
      "outputs": [],
      "source": [
        "class DKLFeatureExtractor(nn.Module):\n",
        "    def __init__(self, input_dim, hidden_dim=64):\n",
        "        super().__init__()\n",
        "        self.net = nn.Sequential(\n",
        "            nn.Linear(input_dim, hidden_dim),\n",
        "            nn.ReLU(),\n",
        "            nn.Linear(hidden_dim, hidden_dim)\n",
        "        )\n",
        "    def forward(self, x):\n",
        "        return self.net(x)"
      ],
      "id": "ImK6AuumUnhD"
    },
    {
      "cell_type": "code",
      "execution_count": 16,
      "metadata": {
        "id": "hkYOkrR3UnhE"
      },
      "outputs": [],
      "source": [
        "class DKLGPModel(ApproximateGP):\n",
        "    def __init__(self, feature_extractor, inducing_points):\n",
        "        variational_distribution = CholeskyVariationalDistribution(inducing_points.size(0))\n",
        "        variational_strategy = VariationalStrategy(self, inducing_points, variational_distribution, learn_inducing_locations=True)\n",
        "        super().__init__(variational_strategy)\n",
        "        self.feature_extractor = feature_extractor\n",
        "        self.mean_module = gpytorch.means.ConstantMean()\n",
        "        self.covar_module = ScaleKernel(RBFKernel())\n",
        "    def forward(self, x):\n",
        "        x_feat = self.feature_extractor(x)\n",
        "        mean_x = self.mean_module(x_feat)\n",
        "        covar_x = self.covar_module(x_feat)\n",
        "        return gpytorch.distributions.MultivariateNormal(mean_x, covar_x)"
      ],
      "id": "hkYOkrR3UnhE"
    },
    {
      "cell_type": "code",
      "execution_count": 17,
      "metadata": {
        "id": "xa86biGZUnhE"
      },
      "outputs": [],
      "source": [
        "class DKLModelWrapper(nn.Module):\n",
        "    def __init__(self, gp_model, likelihood):\n",
        "        super().__init__()\n",
        "        self.gp_model = gp_model\n",
        "        self.likelihood = likelihood\n",
        "    def forward(self, x):\n",
        "        return self.gp_model(x)\n",
        "    def predict(self, x):\n",
        "        self.eval()\n",
        "        self.likelihood.eval()\n",
        "        with torch.no_grad(), gpytorch.settings.fast_pred_var():\n",
        "            dist = self.likelihood(self.gp_model(x))\n",
        "        return dist.mean, dist.variance.sqrt()"
      ],
      "id": "xa86biGZUnhE"
    },
    {
      "cell_type": "code",
      "execution_count": 18,
      "metadata": {
        "id": "EtlA3vkLUnhE"
      },
      "outputs": [],
      "source": [
        "class GPFormer(nn.Module):\n",
        "    def __init__(self, input_dim, d_model=64, nhead=4, num_layers=2):\n",
        "        super().__init__()\n",
        "        self.embedding = nn.Linear(input_dim, d_model)\n",
        "        encoder_layer = nn.TransformerEncoderLayer(d_model=d_model, nhead=nhead, batch_first=True)\n",
        "        self.encoder = nn.TransformerEncoder(encoder_layer, num_layers=num_layers)\n",
        "        self.mean_head = nn.Linear(d_model, 1)\n",
        "        self.log_var_head = nn.Linear(d_model, 1)\n",
        "    def forward(self, x):\n",
        "        x = self.embedding(x)\n",
        "        x = self.encoder(x.unsqueeze(1)).squeeze(1)\n",
        "        mean = self.mean_head(x).squeeze(-1)\n",
        "        sigma = torch.exp(0.5 * self.log_var_head(x).squeeze(-1))\n",
        "        return mean, sigma"
      ],
      "id": "EtlA3vkLUnhE"
    },
    {
      "cell_type": "code",
      "execution_count": 19,
      "metadata": {
        "id": "fbcP2u4iUnhE"
      },
      "outputs": [],
      "source": [
        "def train_gpformer(model, x, y, num_epochs=1000, lr=0.001):\n",
        "    model.train()\n",
        "    optimizer = torch.optim.Adam(model.parameters(), lr=lr)\n",
        "    for epoch in range(num_epochs):\n",
        "        optimizer.zero_grad()\n",
        "        mean, sigma = model(x)\n",
        "        nll = 0.5 * torch.log(sigma ** 2 + 1e-6) + 0.5 * ((y - mean) ** 2) / (sigma ** 2 + 1e-6)\n",
        "        loss = nll.mean()\n",
        "        loss.backward()\n",
        "        optimizer.step()\n",
        "        if epoch % 10 == 0:\n",
        "            print(f'[GPFormer] Epoch {epoch:3d}/{num_epochs}, Loss: {loss.item():.4f}')"
      ],
      "id": "fbcP2u4iUnhE"
    },
    {
      "cell_type": "code",
      "execution_count": 20,
      "metadata": {
        "id": "pk2hqqSKUnhE"
      },
      "outputs": [],
      "source": [
        "def train_dkl(wrapper, likelihood, x, y, num_epochs=1000, lr=0.01):\n",
        "    wrapper.train()\n",
        "    likelihood.train()\n",
        "    optimizer = torch.optim.Adam(wrapper.parameters(), lr=lr)\n",
        "    mll = gpytorch.mlls.VariationalELBO(likelihood, wrapper.gp_model, num_data=y.size(0))\n",
        "    for epoch in range(num_epochs):\n",
        "        optimizer.zero_grad()\n",
        "        output = wrapper(x)\n",
        "        loss = -mll(output, y)\n",
        "        loss.backward()\n",
        "        optimizer.step()\n",
        "        if epoch % 10 == 0:\n",
        "            print(f'[DKL] Epoch {epoch:3d}/{num_epochs}, Loss: {loss.item():.4f}')"
      ],
      "id": "pk2hqqSKUnhE"
    },
    {
      "cell_type": "code",
      "execution_count": 21,
      "metadata": {
        "id": "IpsLzkVBUnhF"
      },
      "outputs": [],
      "source": [
        "def evaluate_model(name, pred_mean, pred_sigma, y_true):\n",
        "    mae = mean_absolute_error(y_true.numpy(), pred_mean.detach().numpy())\n",
        "    corr, _ = spearmanr(torch.abs(y_true - pred_mean).numpy(), pred_sigma.detach().numpy())\n",
        "    print(f'{name} Results - MAE: {mae:.4f}, Spearman Corr(|err|, sigma): {corr:.4f}')\n",
        "    plt.figure(figsize=(6,4))\n",
        "    plt.scatter(pred_sigma.detach().numpy(), torch.abs(y_true - pred_mean).detach().numpy(), alpha=0.5)\n",
        "    plt.xlabel('Predicted Sigma')\n",
        "    plt.ylabel('Absolute Error')\n",
        "    plt.title(f'{name}: Error vs Sigma')\n",
        "    plt.grid(True)\n",
        "    plt.tight_layout()\n",
        "    plt.savefig(f'{name}_mae_sigma.png')\n",
        "    plt.close()\n",
        "    return mae, corr\n"
      ],
      "id": "IpsLzkVBUnhF"
    },
    {
      "cell_type": "code",
      "execution_count": null,
      "metadata": {
        "id": "HFrVyUJOUnhF",
        "outputId": "4599f08e-b4e1-4808-fae8-9e9966332458",
        "colab": {
          "base_uri": "https://localhost:8080/"
        }
      },
      "outputs": [
        {
          "output_type": "stream",
          "name": "stdout",
          "text": [
            "Training DKL...\n",
            "[DKL] Epoch   0/30, Loss: 11954.1592\n",
            "[DKL] Epoch  10/30, Loss: 11092.5381\n",
            "[DKL] Epoch  20/30, Loss: 10299.2959\n",
            "DKL Results - MAE: 100.9842, Spearman Corr(|err|, sigma): 0.1338\n",
            "Training GPFormer...\n",
            "[GPFormer] Epoch   0/30, Loss: 5940.3062\n"
          ]
        }
      ],
      "source": [
        "X, y = load_kin8nm()\n",
        "N = X.size(0)\n",
        "train_size = int(0.8 * N)\n",
        "train_x, test_x = X[:train_size], X[train_size:]\n",
        "train_y, test_y = y[:train_size], y[train_size:]\n",
        "print('Training DKL...')\n",
        "feature_extractor = DKLFeatureExtractor(input_dim=X.shape[1])\n",
        "inducing_points = train_x[:128]\n",
        "gp_model = DKLGPModel(feature_extractor, inducing_points)\n",
        "likelihood = gpytorch.likelihoods.GaussianLikelihood()\n",
        "dkl_model = DKLModelWrapper(gp_model, likelihood)\n",
        "train_dkl(dkl_model, likelihood, train_x, train_y, num_epochs=30)\n",
        "dkl_mean, dkl_sigma = dkl_model.predict(test_x)\n",
        "evaluate_model('DKL', dkl_mean, dkl_sigma, test_y)\n",
        "print('Training GPFormer...')\n",
        "gpformer = GPFormer(input_dim=X.shape[1])\n",
        "train_gpformer(gpformer, train_x, train_y, num_epochs=30)\n",
        "gpformer.eval()\n",
        "with torch.no_grad():\n",
        "    mean_f, sigma_f = gpformer(test_x)\n",
        "evaluate_model('GPFormer', mean_f, sigma_f, test_y)"
      ],
      "id": "HFrVyUJOUnhF"
    }
  ],
  "metadata": {
    "kernelspec": {
      "display_name": "python",
      "language": "python",
      "name": "python"
    },
    "language_info": {
      "name": "python",
      "version": "3.12"
    },
    "colab": {
      "provenance": [],
      "gpuType": "T4"
    },
    "accelerator": "GPU"
  },
  "nbformat": 4,
  "nbformat_minor": 5
}